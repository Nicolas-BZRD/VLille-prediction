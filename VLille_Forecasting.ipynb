{
  "cells": [
    {
      "cell_type": "markdown",
      "metadata": {
        "id": "view-in-github",
        "colab_type": "text"
      },
      "source": [
        "<a href=\"https://colab.research.google.com/github/Nicolas-BZRD/VLille-prediction/blob/main/VLille_Forecasting.ipynb\" target=\"_parent\"><img src=\"https://colab.research.google.com/assets/colab-badge.svg\" alt=\"Open In Colab\"/></a>"
      ]
    },
    {
      "cell_type": "markdown",
      "metadata": {
        "id": "DncicXpn17Xx"
      },
      "source": [
        "#VLille Forecasting"
      ]
    },
    {
      "cell_type": "code",
      "execution_count": 1,
      "metadata": {
        "id": "dkuU7SiL83d4"
      },
      "outputs": [],
      "source": [
        "import csv\n",
        "import numpy as np\n",
        "import pandas as pd\n",
        "import matplotlib.pyplot as plt\n",
        "\n",
        "from sklearn.model_selection import train_test_split\n",
        "from sklearn.preprocessing import StandardScaler\n",
        "from sklearn.ensemble import RandomForestRegressor"
      ]
    },
    {
      "cell_type": "code",
      "execution_count": 2,
      "metadata": {
        "colab": {
          "base_uri": "https://localhost:8080/"
        },
        "id": "fuFFjka83JG6",
        "outputId": "0d8e7a76-2fc1-48c7-9db1-e7a4822feba0"
      },
      "outputs": [
        {
          "output_type": "stream",
          "name": "stdout",
          "text": [
            "Drive already mounted at /content/drive; to attempt to forcibly remount, call drive.mount(\"/content/drive\", force_remount=True).\n"
          ]
        }
      ],
      "source": [
        "from google.colab import drive\n",
        "drive.mount('/content/drive')"
      ]
    },
    {
      "cell_type": "markdown",
      "metadata": {
        "id": "XBH5TUPx1_2p"
      },
      "source": [
        "##0 - Convert dataset in a CSV format (optional)"
      ]
    },
    {
      "cell_type": "code",
      "execution_count": 3,
      "metadata": {
        "id": "MJlkDhqx9Bic"
      },
      "outputs": [],
      "source": [
        "# data = list()"
      ]
    },
    {
      "cell_type": "code",
      "execution_count": 4,
      "metadata": {
        "id": "gfFz4JwL3WCc"
      },
      "outputs": [],
      "source": [
        "# fields = [\"stationID\",\"stationName\",\"address\",\"city\",\"status\",\"type\",\"geo\",\"placesAvailable\",\"bikes\",\"connection\",\"localisation\",\"lastUpdate\",\"weatherId\",\"feelsLike\",\"rain\"]\n",
        "\n",
        "# with open(\"/content/drive/MyDrive/Dataset/VLille/vlille_dataset.txt\", 'r') as f:\n",
        "#   lines = f.readlines()\n",
        "\n",
        "#   for line in lines:\n",
        "#     line = line.replace(\"\\n\", \"\")\n",
        "    \n",
        "#     if(line[:7] == \"Weather\"):\n",
        "#       weather = line[9:-1].split(\";\")\n",
        "#       if(len(weather) == 2): weather.append(\"0\")\n",
        "#     else:\n",
        "#       dataRow = line.split(';') + weather\n",
        "#       data.append(dataRow)"
      ]
    },
    {
      "cell_type": "code",
      "execution_count": 5,
      "metadata": {
        "id": "ljcH9Jy3JR2l"
      },
      "outputs": [],
      "source": [
        "# with open('vlille_dataset.csv', 'w') as f:\n",
        "#     write = csv.writer(f)\n",
        "#     write.writerow(fields)\n",
        "#     write.writerows(data)"
      ]
    },
    {
      "cell_type": "markdown",
      "metadata": {
        "id": "AJiuyP67N7o7"
      },
      "source": [
        "##1 - Load and review the dataset"
      ]
    },
    {
      "cell_type": "code",
      "execution_count": 6,
      "metadata": {
        "colab": {
          "base_uri": "https://localhost:8080/",
          "height": 337
        },
        "id": "tVlSPCYqOBXj",
        "outputId": "3b53b2d5-9fce-4ba2-fd4b-0dbbd2215ba4"
      },
      "outputs": [
        {
          "output_type": "execute_result",
          "data": {
            "text/plain": [
              "   stationID    stationName                   address               city  \\\n",
              "0       93.0   STADE BALLET        85 RUE DU LONG POT              LILLE   \n",
              "1      140.0  RUE CORNEILLE             RUE CORNEILLE  VILLENEUVE D'ASCQ   \n",
              "2       55.0  PORTE D'ARRAS  3 PLACE JACQUES FEBVRIER              LILLE   \n",
              "3      129.0  FLERS CHATEAU      RUE DE LA CHEVALERIE  VILLENEUVE D'ASCQ   \n",
              "4       76.0          FIVES    123 RUE PIERRE LEGRAND              LILLE   \n",
              "\n",
              "       status      type                 geo  placesAvailable  bikes  \\\n",
              "0  EN SERVICE  SANS TPE  50.628918,3.088147              9.0    9.0   \n",
              "1  EN SERVICE  AVEC TPE  50.623795,3.144815              0.0    0.0   \n",
              "2  EN SERVICE  AVEC TPE  50.617847,3.061758             19.0    5.0   \n",
              "3  EN SERVICE  AVEC TPE   50.63608,3.130853              0.0    0.0   \n",
              "4  EN SERVICE  AVEC TPE  50.632996,3.089651             18.0    6.0   \n",
              "\n",
              "  connection        localisation                 lastUpdate  weatherId  \\\n",
              "0  CONNECTED  50.628918,3.088147  2022-02-05T14:00:22+01:00      803.0   \n",
              "1  CONNECTED  50.623795,3.144815  2019-10-17T16:37:06+02:00      803.0   \n",
              "2  CONNECTED  50.617847,3.061758  2022-02-05T14:00:22+01:00      803.0   \n",
              "3  CONNECTED   50.63608,3.130853  2019-10-21T11:46:05+02:00      803.0   \n",
              "4  CONNECTED  50.632996,3.089651  2022-02-05T14:00:22+01:00      803.0   \n",
              "\n",
              "   feelsLike  rain  \n",
              "0     280.66   0.0  \n",
              "1     280.66   0.0  \n",
              "2     280.66   0.0  \n",
              "3     280.66   0.0  \n",
              "4     280.66   0.0  "
            ],
            "text/html": [
              "\n",
              "  <div id=\"df-f2ffa798-df2d-406e-83bd-982f0a26c560\">\n",
              "    <div class=\"colab-df-container\">\n",
              "      <div>\n",
              "<style scoped>\n",
              "    .dataframe tbody tr th:only-of-type {\n",
              "        vertical-align: middle;\n",
              "    }\n",
              "\n",
              "    .dataframe tbody tr th {\n",
              "        vertical-align: top;\n",
              "    }\n",
              "\n",
              "    .dataframe thead th {\n",
              "        text-align: right;\n",
              "    }\n",
              "</style>\n",
              "<table border=\"1\" class=\"dataframe\">\n",
              "  <thead>\n",
              "    <tr style=\"text-align: right;\">\n",
              "      <th></th>\n",
              "      <th>stationID</th>\n",
              "      <th>stationName</th>\n",
              "      <th>address</th>\n",
              "      <th>city</th>\n",
              "      <th>status</th>\n",
              "      <th>type</th>\n",
              "      <th>geo</th>\n",
              "      <th>placesAvailable</th>\n",
              "      <th>bikes</th>\n",
              "      <th>connection</th>\n",
              "      <th>localisation</th>\n",
              "      <th>lastUpdate</th>\n",
              "      <th>weatherId</th>\n",
              "      <th>feelsLike</th>\n",
              "      <th>rain</th>\n",
              "    </tr>\n",
              "  </thead>\n",
              "  <tbody>\n",
              "    <tr>\n",
              "      <th>0</th>\n",
              "      <td>93.0</td>\n",
              "      <td>STADE BALLET</td>\n",
              "      <td>85 RUE DU LONG POT</td>\n",
              "      <td>LILLE</td>\n",
              "      <td>EN SERVICE</td>\n",
              "      <td>SANS TPE</td>\n",
              "      <td>50.628918,3.088147</td>\n",
              "      <td>9.0</td>\n",
              "      <td>9.0</td>\n",
              "      <td>CONNECTED</td>\n",
              "      <td>50.628918,3.088147</td>\n",
              "      <td>2022-02-05T14:00:22+01:00</td>\n",
              "      <td>803.0</td>\n",
              "      <td>280.66</td>\n",
              "      <td>0.0</td>\n",
              "    </tr>\n",
              "    <tr>\n",
              "      <th>1</th>\n",
              "      <td>140.0</td>\n",
              "      <td>RUE CORNEILLE</td>\n",
              "      <td>RUE CORNEILLE</td>\n",
              "      <td>VILLENEUVE D'ASCQ</td>\n",
              "      <td>EN SERVICE</td>\n",
              "      <td>AVEC TPE</td>\n",
              "      <td>50.623795,3.144815</td>\n",
              "      <td>0.0</td>\n",
              "      <td>0.0</td>\n",
              "      <td>CONNECTED</td>\n",
              "      <td>50.623795,3.144815</td>\n",
              "      <td>2019-10-17T16:37:06+02:00</td>\n",
              "      <td>803.0</td>\n",
              "      <td>280.66</td>\n",
              "      <td>0.0</td>\n",
              "    </tr>\n",
              "    <tr>\n",
              "      <th>2</th>\n",
              "      <td>55.0</td>\n",
              "      <td>PORTE D'ARRAS</td>\n",
              "      <td>3 PLACE JACQUES FEBVRIER</td>\n",
              "      <td>LILLE</td>\n",
              "      <td>EN SERVICE</td>\n",
              "      <td>AVEC TPE</td>\n",
              "      <td>50.617847,3.061758</td>\n",
              "      <td>19.0</td>\n",
              "      <td>5.0</td>\n",
              "      <td>CONNECTED</td>\n",
              "      <td>50.617847,3.061758</td>\n",
              "      <td>2022-02-05T14:00:22+01:00</td>\n",
              "      <td>803.0</td>\n",
              "      <td>280.66</td>\n",
              "      <td>0.0</td>\n",
              "    </tr>\n",
              "    <tr>\n",
              "      <th>3</th>\n",
              "      <td>129.0</td>\n",
              "      <td>FLERS CHATEAU</td>\n",
              "      <td>RUE DE LA CHEVALERIE</td>\n",
              "      <td>VILLENEUVE D'ASCQ</td>\n",
              "      <td>EN SERVICE</td>\n",
              "      <td>AVEC TPE</td>\n",
              "      <td>50.63608,3.130853</td>\n",
              "      <td>0.0</td>\n",
              "      <td>0.0</td>\n",
              "      <td>CONNECTED</td>\n",
              "      <td>50.63608,3.130853</td>\n",
              "      <td>2019-10-21T11:46:05+02:00</td>\n",
              "      <td>803.0</td>\n",
              "      <td>280.66</td>\n",
              "      <td>0.0</td>\n",
              "    </tr>\n",
              "    <tr>\n",
              "      <th>4</th>\n",
              "      <td>76.0</td>\n",
              "      <td>FIVES</td>\n",
              "      <td>123 RUE PIERRE LEGRAND</td>\n",
              "      <td>LILLE</td>\n",
              "      <td>EN SERVICE</td>\n",
              "      <td>AVEC TPE</td>\n",
              "      <td>50.632996,3.089651</td>\n",
              "      <td>18.0</td>\n",
              "      <td>6.0</td>\n",
              "      <td>CONNECTED</td>\n",
              "      <td>50.632996,3.089651</td>\n",
              "      <td>2022-02-05T14:00:22+01:00</td>\n",
              "      <td>803.0</td>\n",
              "      <td>280.66</td>\n",
              "      <td>0.0</td>\n",
              "    </tr>\n",
              "  </tbody>\n",
              "</table>\n",
              "</div>\n",
              "      <button class=\"colab-df-convert\" onclick=\"convertToInteractive('df-f2ffa798-df2d-406e-83bd-982f0a26c560')\"\n",
              "              title=\"Convert this dataframe to an interactive table.\"\n",
              "              style=\"display:none;\">\n",
              "        \n",
              "  <svg xmlns=\"http://www.w3.org/2000/svg\" height=\"24px\"viewBox=\"0 0 24 24\"\n",
              "       width=\"24px\">\n",
              "    <path d=\"M0 0h24v24H0V0z\" fill=\"none\"/>\n",
              "    <path d=\"M18.56 5.44l.94 2.06.94-2.06 2.06-.94-2.06-.94-.94-2.06-.94 2.06-2.06.94zm-11 1L8.5 8.5l.94-2.06 2.06-.94-2.06-.94L8.5 2.5l-.94 2.06-2.06.94zm10 10l.94 2.06.94-2.06 2.06-.94-2.06-.94-.94-2.06-.94 2.06-2.06.94z\"/><path d=\"M17.41 7.96l-1.37-1.37c-.4-.4-.92-.59-1.43-.59-.52 0-1.04.2-1.43.59L10.3 9.45l-7.72 7.72c-.78.78-.78 2.05 0 2.83L4 21.41c.39.39.9.59 1.41.59.51 0 1.02-.2 1.41-.59l7.78-7.78 2.81-2.81c.8-.78.8-2.07 0-2.86zM5.41 20L4 18.59l7.72-7.72 1.47 1.35L5.41 20z\"/>\n",
              "  </svg>\n",
              "      </button>\n",
              "      \n",
              "  <style>\n",
              "    .colab-df-container {\n",
              "      display:flex;\n",
              "      flex-wrap:wrap;\n",
              "      gap: 12px;\n",
              "    }\n",
              "\n",
              "    .colab-df-convert {\n",
              "      background-color: #E8F0FE;\n",
              "      border: none;\n",
              "      border-radius: 50%;\n",
              "      cursor: pointer;\n",
              "      display: none;\n",
              "      fill: #1967D2;\n",
              "      height: 32px;\n",
              "      padding: 0 0 0 0;\n",
              "      width: 32px;\n",
              "    }\n",
              "\n",
              "    .colab-df-convert:hover {\n",
              "      background-color: #E2EBFA;\n",
              "      box-shadow: 0px 1px 2px rgba(60, 64, 67, 0.3), 0px 1px 3px 1px rgba(60, 64, 67, 0.15);\n",
              "      fill: #174EA6;\n",
              "    }\n",
              "\n",
              "    [theme=dark] .colab-df-convert {\n",
              "      background-color: #3B4455;\n",
              "      fill: #D2E3FC;\n",
              "    }\n",
              "\n",
              "    [theme=dark] .colab-df-convert:hover {\n",
              "      background-color: #434B5C;\n",
              "      box-shadow: 0px 1px 3px 1px rgba(0, 0, 0, 0.15);\n",
              "      filter: drop-shadow(0px 1px 2px rgba(0, 0, 0, 0.3));\n",
              "      fill: #FFFFFF;\n",
              "    }\n",
              "  </style>\n",
              "\n",
              "      <script>\n",
              "        const buttonEl =\n",
              "          document.querySelector('#df-f2ffa798-df2d-406e-83bd-982f0a26c560 button.colab-df-convert');\n",
              "        buttonEl.style.display =\n",
              "          google.colab.kernel.accessAllowed ? 'block' : 'none';\n",
              "\n",
              "        async function convertToInteractive(key) {\n",
              "          const element = document.querySelector('#df-f2ffa798-df2d-406e-83bd-982f0a26c560');\n",
              "          const dataTable =\n",
              "            await google.colab.kernel.invokeFunction('convertToInteractive',\n",
              "                                                     [key], {});\n",
              "          if (!dataTable) return;\n",
              "\n",
              "          const docLinkHtml = 'Like what you see? Visit the ' +\n",
              "            '<a target=\"_blank\" href=https://colab.research.google.com/notebooks/data_table.ipynb>data table notebook</a>'\n",
              "            + ' to learn more about interactive tables.';\n",
              "          element.innerHTML = '';\n",
              "          dataTable['output_type'] = 'display_data';\n",
              "          await google.colab.output.renderOutput(dataTable, element);\n",
              "          const docLink = document.createElement('div');\n",
              "          docLink.innerHTML = docLinkHtml;\n",
              "          element.appendChild(docLink);\n",
              "        }\n",
              "      </script>\n",
              "    </div>\n",
              "  </div>\n",
              "  "
            ]
          },
          "metadata": {},
          "execution_count": 6
        }
      ],
      "source": [
        "df = pd.read_csv('/content/drive/MyDrive/Dataset/VLille/vlille_dataset.csv')\n",
        "df.head()"
      ]
    },
    {
      "cell_type": "markdown",
      "metadata": {
        "id": "bYOHKgRMaDDF"
      },
      "source": [
        "###Review of the data set"
      ]
    },
    {
      "cell_type": "code",
      "execution_count": 7,
      "metadata": {
        "colab": {
          "base_uri": "https://localhost:8080/",
          "height": 300
        },
        "id": "SQQw_L1BX09Q",
        "outputId": "0c3bacf8-9a22-47f9-bc21-030b17e15234"
      },
      "outputs": [
        {
          "output_type": "execute_result",
          "data": {
            "text/plain": [
              "           stationID  placesAvailable          bikes      weatherId  \\\n",
              "count  296856.000000    296856.000000  296856.000000  296856.000000   \n",
              "mean      131.376984        10.299105       7.446755     780.432088   \n",
              "std        78.850231         6.932476       5.769639      78.217967   \n",
              "min         1.000000         0.000000       0.000000     300.000000   \n",
              "25%        63.750000         6.000000       3.000000     800.000000   \n",
              "50%       126.500000        10.000000       7.000000     801.000000   \n",
              "75%       205.250000        14.000000      11.000000     803.000000   \n",
              "max       299.000000        40.000000      40.000000     804.000000   \n",
              "\n",
              "           feelsLike           rain  \n",
              "count  296856.000000  296856.000000  \n",
              "mean      280.791231       0.042649  \n",
              "std         4.809462       0.227586  \n",
              "min       269.340000       0.000000  \n",
              "25%       277.750000       0.000000  \n",
              "50%       280.010000       0.000000  \n",
              "75%       283.950000       0.000000  \n",
              "max       292.510000       2.730000  "
            ],
            "text/html": [
              "\n",
              "  <div id=\"df-fbe78142-a8a9-412b-96c7-db6f689bc596\">\n",
              "    <div class=\"colab-df-container\">\n",
              "      <div>\n",
              "<style scoped>\n",
              "    .dataframe tbody tr th:only-of-type {\n",
              "        vertical-align: middle;\n",
              "    }\n",
              "\n",
              "    .dataframe tbody tr th {\n",
              "        vertical-align: top;\n",
              "    }\n",
              "\n",
              "    .dataframe thead th {\n",
              "        text-align: right;\n",
              "    }\n",
              "</style>\n",
              "<table border=\"1\" class=\"dataframe\">\n",
              "  <thead>\n",
              "    <tr style=\"text-align: right;\">\n",
              "      <th></th>\n",
              "      <th>stationID</th>\n",
              "      <th>placesAvailable</th>\n",
              "      <th>bikes</th>\n",
              "      <th>weatherId</th>\n",
              "      <th>feelsLike</th>\n",
              "      <th>rain</th>\n",
              "    </tr>\n",
              "  </thead>\n",
              "  <tbody>\n",
              "    <tr>\n",
              "      <th>count</th>\n",
              "      <td>296856.000000</td>\n",
              "      <td>296856.000000</td>\n",
              "      <td>296856.000000</td>\n",
              "      <td>296856.000000</td>\n",
              "      <td>296856.000000</td>\n",
              "      <td>296856.000000</td>\n",
              "    </tr>\n",
              "    <tr>\n",
              "      <th>mean</th>\n",
              "      <td>131.376984</td>\n",
              "      <td>10.299105</td>\n",
              "      <td>7.446755</td>\n",
              "      <td>780.432088</td>\n",
              "      <td>280.791231</td>\n",
              "      <td>0.042649</td>\n",
              "    </tr>\n",
              "    <tr>\n",
              "      <th>std</th>\n",
              "      <td>78.850231</td>\n",
              "      <td>6.932476</td>\n",
              "      <td>5.769639</td>\n",
              "      <td>78.217967</td>\n",
              "      <td>4.809462</td>\n",
              "      <td>0.227586</td>\n",
              "    </tr>\n",
              "    <tr>\n",
              "      <th>min</th>\n",
              "      <td>1.000000</td>\n",
              "      <td>0.000000</td>\n",
              "      <td>0.000000</td>\n",
              "      <td>300.000000</td>\n",
              "      <td>269.340000</td>\n",
              "      <td>0.000000</td>\n",
              "    </tr>\n",
              "    <tr>\n",
              "      <th>25%</th>\n",
              "      <td>63.750000</td>\n",
              "      <td>6.000000</td>\n",
              "      <td>3.000000</td>\n",
              "      <td>800.000000</td>\n",
              "      <td>277.750000</td>\n",
              "      <td>0.000000</td>\n",
              "    </tr>\n",
              "    <tr>\n",
              "      <th>50%</th>\n",
              "      <td>126.500000</td>\n",
              "      <td>10.000000</td>\n",
              "      <td>7.000000</td>\n",
              "      <td>801.000000</td>\n",
              "      <td>280.010000</td>\n",
              "      <td>0.000000</td>\n",
              "    </tr>\n",
              "    <tr>\n",
              "      <th>75%</th>\n",
              "      <td>205.250000</td>\n",
              "      <td>14.000000</td>\n",
              "      <td>11.000000</td>\n",
              "      <td>803.000000</td>\n",
              "      <td>283.950000</td>\n",
              "      <td>0.000000</td>\n",
              "    </tr>\n",
              "    <tr>\n",
              "      <th>max</th>\n",
              "      <td>299.000000</td>\n",
              "      <td>40.000000</td>\n",
              "      <td>40.000000</td>\n",
              "      <td>804.000000</td>\n",
              "      <td>292.510000</td>\n",
              "      <td>2.730000</td>\n",
              "    </tr>\n",
              "  </tbody>\n",
              "</table>\n",
              "</div>\n",
              "      <button class=\"colab-df-convert\" onclick=\"convertToInteractive('df-fbe78142-a8a9-412b-96c7-db6f689bc596')\"\n",
              "              title=\"Convert this dataframe to an interactive table.\"\n",
              "              style=\"display:none;\">\n",
              "        \n",
              "  <svg xmlns=\"http://www.w3.org/2000/svg\" height=\"24px\"viewBox=\"0 0 24 24\"\n",
              "       width=\"24px\">\n",
              "    <path d=\"M0 0h24v24H0V0z\" fill=\"none\"/>\n",
              "    <path d=\"M18.56 5.44l.94 2.06.94-2.06 2.06-.94-2.06-.94-.94-2.06-.94 2.06-2.06.94zm-11 1L8.5 8.5l.94-2.06 2.06-.94-2.06-.94L8.5 2.5l-.94 2.06-2.06.94zm10 10l.94 2.06.94-2.06 2.06-.94-2.06-.94-.94-2.06-.94 2.06-2.06.94z\"/><path d=\"M17.41 7.96l-1.37-1.37c-.4-.4-.92-.59-1.43-.59-.52 0-1.04.2-1.43.59L10.3 9.45l-7.72 7.72c-.78.78-.78 2.05 0 2.83L4 21.41c.39.39.9.59 1.41.59.51 0 1.02-.2 1.41-.59l7.78-7.78 2.81-2.81c.8-.78.8-2.07 0-2.86zM5.41 20L4 18.59l7.72-7.72 1.47 1.35L5.41 20z\"/>\n",
              "  </svg>\n",
              "      </button>\n",
              "      \n",
              "  <style>\n",
              "    .colab-df-container {\n",
              "      display:flex;\n",
              "      flex-wrap:wrap;\n",
              "      gap: 12px;\n",
              "    }\n",
              "\n",
              "    .colab-df-convert {\n",
              "      background-color: #E8F0FE;\n",
              "      border: none;\n",
              "      border-radius: 50%;\n",
              "      cursor: pointer;\n",
              "      display: none;\n",
              "      fill: #1967D2;\n",
              "      height: 32px;\n",
              "      padding: 0 0 0 0;\n",
              "      width: 32px;\n",
              "    }\n",
              "\n",
              "    .colab-df-convert:hover {\n",
              "      background-color: #E2EBFA;\n",
              "      box-shadow: 0px 1px 2px rgba(60, 64, 67, 0.3), 0px 1px 3px 1px rgba(60, 64, 67, 0.15);\n",
              "      fill: #174EA6;\n",
              "    }\n",
              "\n",
              "    [theme=dark] .colab-df-convert {\n",
              "      background-color: #3B4455;\n",
              "      fill: #D2E3FC;\n",
              "    }\n",
              "\n",
              "    [theme=dark] .colab-df-convert:hover {\n",
              "      background-color: #434B5C;\n",
              "      box-shadow: 0px 1px 3px 1px rgba(0, 0, 0, 0.15);\n",
              "      filter: drop-shadow(0px 1px 2px rgba(0, 0, 0, 0.3));\n",
              "      fill: #FFFFFF;\n",
              "    }\n",
              "  </style>\n",
              "\n",
              "      <script>\n",
              "        const buttonEl =\n",
              "          document.querySelector('#df-fbe78142-a8a9-412b-96c7-db6f689bc596 button.colab-df-convert');\n",
              "        buttonEl.style.display =\n",
              "          google.colab.kernel.accessAllowed ? 'block' : 'none';\n",
              "\n",
              "        async function convertToInteractive(key) {\n",
              "          const element = document.querySelector('#df-fbe78142-a8a9-412b-96c7-db6f689bc596');\n",
              "          const dataTable =\n",
              "            await google.colab.kernel.invokeFunction('convertToInteractive',\n",
              "                                                     [key], {});\n",
              "          if (!dataTable) return;\n",
              "\n",
              "          const docLinkHtml = 'Like what you see? Visit the ' +\n",
              "            '<a target=\"_blank\" href=https://colab.research.google.com/notebooks/data_table.ipynb>data table notebook</a>'\n",
              "            + ' to learn more about interactive tables.';\n",
              "          element.innerHTML = '';\n",
              "          dataTable['output_type'] = 'display_data';\n",
              "          await google.colab.output.renderOutput(dataTable, element);\n",
              "          const docLink = document.createElement('div');\n",
              "          docLink.innerHTML = docLinkHtml;\n",
              "          element.appendChild(docLink);\n",
              "        }\n",
              "      </script>\n",
              "    </div>\n",
              "  </div>\n",
              "  "
            ]
          },
          "metadata": {},
          "execution_count": 7
        }
      ],
      "source": [
        "df.describe()"
      ]
    },
    {
      "cell_type": "code",
      "execution_count": 8,
      "metadata": {
        "colab": {
          "base_uri": "https://localhost:8080/",
          "height": 336
        },
        "id": "VJdSl5adUMoz",
        "outputId": "5afa6f09-bbf7-452b-a5c5-214126e9b234"
      },
      "outputs": [
        {
          "output_type": "display_data",
          "data": {
            "text/plain": [
              "<Figure size 432x288 with 1 Axes>"
            ],
            "image/png": "[encoded data removed]"
          },
          "metadata": {
            "needs_background": "light"
          }
        }
      ],
      "source": [
        "fig = plt.figure()\n",
        "ax = fig.add_axes([0,0,1,1])\n",
        "labels = ['Rows without rain', 'Rows with rain']\n",
        "values = [df['rain'].value_counts()[0.0], len(df.index)-df['rain'].value_counts()[0.0]]\n",
        "ax.bar(labels,values)\n",
        "plt.show()"
      ]
    },
    {
      "cell_type": "markdown",
      "metadata": {
        "id": "LZaGLgqBcAF1"
      },
      "source": [
        "**Remarqs:** The dataset is unbalanced with 94% of the lines with \"good\" weather and only 6% with rain. We can also see that feels like temperature have a very low standard deviation, so we need to scrap data this summer/winter to get a larger temperature sample.\n",
        "\n",
        "**Funny remarqs:** For an average of 7 bikes, we have 10 spaces available, which means for example that if we have 100 bikes in total in Lille, we have 130 spaces. We can also see that the largest docking point can be completely empty or full."
      ]
    },
    {
      "cell_type": "markdown",
      "metadata": {
        "id": "bRrFKk6afr7l"
      },
      "source": [
        "##2 - Data processing"
      ]
    },
    {
      "cell_type": "markdown",
      "metadata": {
        "id": "HXSOhRI4ggdA"
      },
      "source": [
        "###Drop unnecessary rows"
      ]
    },
    {
      "cell_type": "code",
      "execution_count": 9,
      "metadata": {
        "id": "IsZdRgIUfsOE"
      },
      "outputs": [],
      "source": [
        "# Drop rows where the dowking point was disconnected.\n",
        "df = df.drop(df[df.connection == \"DISCONNECTED\"].index)\n",
        "\n",
        "# Drop rows that didn't have an \"EN SERVICE\" status.\n",
        "df = df.drop(df[(df.status != \"EN SERVICE\")].index)\n",
        "\n",
        "# Drop data that has not been updated recently.\n",
        "df = df.drop(df[(df.lastUpdate.str.contains(\"2022\") == False)].index)"
      ]
    },
    {
      "cell_type": "markdown",
      "metadata": {
        "id": "-DrGxyDCegEA"
      },
      "source": [
        "###Normalization of some data like date or time."
      ]
    },
    {
      "cell_type": "markdown",
      "source": [
        "Convert the lastUpdate column represented by a string object into a datetime object and float objects to int when it's possible."
      ],
      "metadata": {
        "id": "diQKCfbTSHOE"
      }
    },
    {
      "cell_type": "code",
      "source": [
        "df['lastUpdate'] = df['lastUpdate'].str[:-6]\n",
        "df['lastUpdate'] = pd.to_datetime(df['lastUpdate'], format='%Y-%m-%dT%H:%M:%S')\n",
        "\n",
        "df = df.astype({\"placesAvailable\":'int', \"bikes\":'int', \"weatherId\":'int'}) "
      ],
      "metadata": {
        "id": "S1NjJ3ACPG4M"
      },
      "execution_count": 10,
      "outputs": []
    },
    {
      "cell_type": "markdown",
      "source": [
        "We add the weekday value to our dataset in order to simplify and generalize the model that we will implement (Monday: 0; Tuesday: 1 ; ...; Saturday: 5; Sunday: 6).<br><br>\n",
        "\n",
        "We also add a column to store the time into a day segment (00h30: 1; 12h00: 24; 14h26: 28; ...; 23h59: 47)."
      ],
      "metadata": {
        "id": "qb2m6HKkSjhz"
      }
    },
    {
      "cell_type": "code",
      "source": [
        "df['weekday'] = df.apply(lambda x: x[\"lastUpdate\"].weekday(), axis=1)\n",
        "df['dayTime'] = df.apply(lambda x: int((x[\"lastUpdate\"].hour*60+x[\"lastUpdate\"].minute)/30), axis=1)"
      ],
      "metadata": {
        "id": "gCLNh5LJNy7N"
      },
      "execution_count": 11,
      "outputs": []
    },
    {
      "cell_type": "code",
      "source": [
        "df.head()"
      ],
      "metadata": {
        "colab": {
          "base_uri": "https://localhost:8080/",
          "height": 389
        },
        "id": "ipgNgXkyS_G4",
        "outputId": "7d51b8d9-6a3a-4965-ca9b-1d55519dc732"
      },
      "execution_count": 12,
      "outputs": [
        {
          "output_type": "execute_result",
          "data": {
            "text/plain": [
              "   stationID          stationName                   address       city  \\\n",
              "0       93.0         STADE BALLET        85 RUE DU LONG POT      LILLE   \n",
              "2       55.0        PORTE D'ARRAS  3 PLACE JACQUES FEBVRIER      LILLE   \n",
              "4       76.0                FIVES    123 RUE PIERRE LEGRAND      LILLE   \n",
              "5       71.0          BOIS BLANCS   122 AVENUE DE DUNKERQUE      LILLE   \n",
              "6      111.0  HELLEMMES CIMETIERE   318, RUE ROGER SALENGRO  HELLEMMES   \n",
              "\n",
              "       status      type                 geo  placesAvailable  bikes  \\\n",
              "0  EN SERVICE  SANS TPE  50.628918,3.088147                9      9   \n",
              "2  EN SERVICE  AVEC TPE  50.617847,3.061758               19      5   \n",
              "4  EN SERVICE  AVEC TPE  50.632996,3.089651               18      6   \n",
              "5  EN SERVICE  AVEC TPE  50.634045,3.030778                9     13   \n",
              "6  EN SERVICE  SANS TPE   50.62486,3.116677                6      6   \n",
              "\n",
              "  connection        localisation          lastUpdate  weatherId  feelsLike  \\\n",
              "0  CONNECTED  50.628918,3.088147 2022-02-05 14:00:22        803     280.66   \n",
              "2  CONNECTED  50.617847,3.061758 2022-02-05 14:00:22        803     280.66   \n",
              "4  CONNECTED  50.632996,3.089651 2022-02-05 14:00:22        803     280.66   \n",
              "5  CONNECTED  50.634045,3.030778 2022-02-05 14:00:22        803     280.66   \n",
              "6  CONNECTED   50.62486,3.116677 2022-02-05 14:00:22        803     280.66   \n",
              "\n",
              "   rain  weekday  dayTime  \n",
              "0   0.0        5       28  \n",
              "2   0.0        5       28  \n",
              "4   0.0        5       28  \n",
              "5   0.0        5       28  \n",
              "6   0.0        5       28  "
            ],
            "text/html": [
              "\n",
              "  <div id=\"df-5513fc75-4076-473c-ba8d-d64058aaebb9\">\n",
              "    <div class=\"colab-df-container\">\n",
              "      <div>\n",
              "<style scoped>\n",
              "    .dataframe tbody tr th:only-of-type {\n",
              "        vertical-align: middle;\n",
              "    }\n",
              "\n",
              "    .dataframe tbody tr th {\n",
              "        vertical-align: top;\n",
              "    }\n",
              "\n",
              "    .dataframe thead th {\n",
              "        text-align: right;\n",
              "    }\n",
              "</style>\n",
              "<table border=\"1\" class=\"dataframe\">\n",
              "  <thead>\n",
              "    <tr style=\"text-align: right;\">\n",
              "      <th></th>\n",
              "      <th>stationID</th>\n",
              "      <th>stationName</th>\n",
              "      <th>address</th>\n",
              "      <th>city</th>\n",
              "      <th>status</th>\n",
              "      <th>type</th>\n",
              "      <th>geo</th>\n",
              "      <th>placesAvailable</th>\n",
              "      <th>bikes</th>\n",
              "      <th>connection</th>\n",
              "      <th>localisation</th>\n",
              "      <th>lastUpdate</th>\n",
              "      <th>weatherId</th>\n",
              "      <th>feelsLike</th>\n",
              "      <th>rain</th>\n",
              "      <th>weekday</th>\n",
              "      <th>dayTime</th>\n",
              "    </tr>\n",
              "  </thead>\n",
              "  <tbody>\n",
              "    <tr>\n",
              "      <th>0</th>\n",
              "      <td>93.0</td>\n",
              "      <td>STADE BALLET</td>\n",
              "      <td>85 RUE DU LONG POT</td>\n",
              "      <td>LILLE</td>\n",
              "      <td>EN SERVICE</td>\n",
              "      <td>SANS TPE</td>\n",
              "      <td>50.628918,3.088147</td>\n",
              "      <td>9</td>\n",
              "      <td>9</td>\n",
              "      <td>CONNECTED</td>\n",
              "      <td>50.628918,3.088147</td>\n",
              "      <td>2022-02-05 14:00:22</td>\n",
              "      <td>803</td>\n",
              "      <td>280.66</td>\n",
              "      <td>0.0</td>\n",
              "      <td>5</td>\n",
              "      <td>28</td>\n",
              "    </tr>\n",
              "    <tr>\n",
              "      <th>2</th>\n",
              "      <td>55.0</td>\n",
              "      <td>PORTE D'ARRAS</td>\n",
              "      <td>3 PLACE JACQUES FEBVRIER</td>\n",
              "      <td>LILLE</td>\n",
              "      <td>EN SERVICE</td>\n",
              "      <td>AVEC TPE</td>\n",
              "      <td>50.617847,3.061758</td>\n",
              "      <td>19</td>\n",
              "      <td>5</td>\n",
              "      <td>CONNECTED</td>\n",
              "      <td>50.617847,3.061758</td>\n",
              "      <td>2022-02-05 14:00:22</td>\n",
              "      <td>803</td>\n",
              "      <td>280.66</td>\n",
              "      <td>0.0</td>\n",
              "      <td>5</td>\n",
              "      <td>28</td>\n",
              "    </tr>\n",
              "    <tr>\n",
              "      <th>4</th>\n",
              "      <td>76.0</td>\n",
              "      <td>FIVES</td>\n",
              "      <td>123 RUE PIERRE LEGRAND</td>\n",
              "      <td>LILLE</td>\n",
              "      <td>EN SERVICE</td>\n",
              "      <td>AVEC TPE</td>\n",
              "      <td>50.632996,3.089651</td>\n",
              "      <td>18</td>\n",
              "      <td>6</td>\n",
              "      <td>CONNECTED</td>\n",
              "      <td>50.632996,3.089651</td>\n",
              "      <td>2022-02-05 14:00:22</td>\n",
              "      <td>803</td>\n",
              "      <td>280.66</td>\n",
              "      <td>0.0</td>\n",
              "      <td>5</td>\n",
              "      <td>28</td>\n",
              "    </tr>\n",
              "    <tr>\n",
              "      <th>5</th>\n",
              "      <td>71.0</td>\n",
              "      <td>BOIS BLANCS</td>\n",
              "      <td>122 AVENUE DE DUNKERQUE</td>\n",
              "      <td>LILLE</td>\n",
              "      <td>EN SERVICE</td>\n",
              "      <td>AVEC TPE</td>\n",
              "      <td>50.634045,3.030778</td>\n",
              "      <td>9</td>\n",
              "      <td>13</td>\n",
              "      <td>CONNECTED</td>\n",
              "      <td>50.634045,3.030778</td>\n",
              "      <td>2022-02-05 14:00:22</td>\n",
              "      <td>803</td>\n",
              "      <td>280.66</td>\n",
              "      <td>0.0</td>\n",
              "      <td>5</td>\n",
              "      <td>28</td>\n",
              "    </tr>\n",
              "    <tr>\n",
              "      <th>6</th>\n",
              "      <td>111.0</td>\n",
              "      <td>HELLEMMES CIMETIERE</td>\n",
              "      <td>318, RUE ROGER SALENGRO</td>\n",
              "      <td>HELLEMMES</td>\n",
              "      <td>EN SERVICE</td>\n",
              "      <td>SANS TPE</td>\n",
              "      <td>50.62486,3.116677</td>\n",
              "      <td>6</td>\n",
              "      <td>6</td>\n",
              "      <td>CONNECTED</td>\n",
              "      <td>50.62486,3.116677</td>\n",
              "      <td>2022-02-05 14:00:22</td>\n",
              "      <td>803</td>\n",
              "      <td>280.66</td>\n",
              "      <td>0.0</td>\n",
              "      <td>5</td>\n",
              "      <td>28</td>\n",
              "    </tr>\n",
              "  </tbody>\n",
              "</table>\n",
              "</div>\n",
              "      <button class=\"colab-df-convert\" onclick=\"convertToInteractive('df-5513fc75-4076-473c-ba8d-d64058aaebb9')\"\n",
              "              title=\"Convert this dataframe to an interactive table.\"\n",
              "              style=\"display:none;\">\n",
              "        \n",
              "  <svg xmlns=\"http://www.w3.org/2000/svg\" height=\"24px\"viewBox=\"0 0 24 24\"\n",
              "       width=\"24px\">\n",
              "    <path d=\"M0 0h24v24H0V0z\" fill=\"none\"/>\n",
              "    <path d=\"M18.56 5.44l.94 2.06.94-2.06 2.06-.94-2.06-.94-.94-2.06-.94 2.06-2.06.94zm-11 1L8.5 8.5l.94-2.06 2.06-.94-2.06-.94L8.5 2.5l-.94 2.06-2.06.94zm10 10l.94 2.06.94-2.06 2.06-.94-2.06-.94-.94-2.06-.94 2.06-2.06.94z\"/><path d=\"M17.41 7.96l-1.37-1.37c-.4-.4-.92-.59-1.43-.59-.52 0-1.04.2-1.43.59L10.3 9.45l-7.72 7.72c-.78.78-.78 2.05 0 2.83L4 21.41c.39.39.9.59 1.41.59.51 0 1.02-.2 1.41-.59l7.78-7.78 2.81-2.81c.8-.78.8-2.07 0-2.86zM5.41 20L4 18.59l7.72-7.72 1.47 1.35L5.41 20z\"/>\n",
              "  </svg>\n",
              "      </button>\n",
              "      \n",
              "  <style>\n",
              "    .colab-df-container {\n",
              "      display:flex;\n",
              "      flex-wrap:wrap;\n",
              "      gap: 12px;\n",
              "    }\n",
              "\n",
              "    .colab-df-convert {\n",
              "      background-color: #E8F0FE;\n",
              "      border: none;\n",
              "      border-radius: 50%;\n",
              "      cursor: pointer;\n",
              "      display: none;\n",
              "      fill: #1967D2;\n",
              "      height: 32px;\n",
              "      padding: 0 0 0 0;\n",
              "      width: 32px;\n",
              "    }\n",
              "\n",
              "    .colab-df-convert:hover {\n",
              "      background-color: #E2EBFA;\n",
              "      box-shadow: 0px 1px 2px rgba(60, 64, 67, 0.3), 0px 1px 3px 1px rgba(60, 64, 67, 0.15);\n",
              "      fill: #174EA6;\n",
              "    }\n",
              "\n",
              "    [theme=dark] .colab-df-convert {\n",
              "      background-color: #3B4455;\n",
              "      fill: #D2E3FC;\n",
              "    }\n",
              "\n",
              "    [theme=dark] .colab-df-convert:hover {\n",
              "      background-color: #434B5C;\n",
              "      box-shadow: 0px 1px 3px 1px rgba(0, 0, 0, 0.15);\n",
              "      filter: drop-shadow(0px 1px 2px rgba(0, 0, 0, 0.3));\n",
              "      fill: #FFFFFF;\n",
              "    }\n",
              "  </style>\n",
              "\n",
              "      <script>\n",
              "        const buttonEl =\n",
              "          document.querySelector('#df-5513fc75-4076-473c-ba8d-d64058aaebb9 button.colab-df-convert');\n",
              "        buttonEl.style.display =\n",
              "          google.colab.kernel.accessAllowed ? 'block' : 'none';\n",
              "\n",
              "        async function convertToInteractive(key) {\n",
              "          const element = document.querySelector('#df-5513fc75-4076-473c-ba8d-d64058aaebb9');\n",
              "          const dataTable =\n",
              "            await google.colab.kernel.invokeFunction('convertToInteractive',\n",
              "                                                     [key], {});\n",
              "          if (!dataTable) return;\n",
              "\n",
              "          const docLinkHtml = 'Like what you see? Visit the ' +\n",
              "            '<a target=\"_blank\" href=https://colab.research.google.com/notebooks/data_table.ipynb>data table notebook</a>'\n",
              "            + ' to learn more about interactive tables.';\n",
              "          element.innerHTML = '';\n",
              "          dataTable['output_type'] = 'display_data';\n",
              "          await google.colab.output.renderOutput(dataTable, element);\n",
              "          const docLink = document.createElement('div');\n",
              "          docLink.innerHTML = docLinkHtml;\n",
              "          element.appendChild(docLink);\n",
              "        }\n",
              "      </script>\n",
              "    </div>\n",
              "  </div>\n",
              "  "
            ]
          },
          "metadata": {},
          "execution_count": 12
        }
      ]
    },
    {
      "cell_type": "markdown",
      "source": [
        "##3 - AI"
      ],
      "metadata": {
        "id": "5lU0usVkUHW9"
      }
    },
    {
      "cell_type": "markdown",
      "source": [
        "###Random forest"
      ],
      "metadata": {
        "id": "WR_-u2fCULpS"
      }
    },
    {
      "cell_type": "markdown",
      "source": [
        "Creation X, Y (features: stationID, weatherID, feelsLike, rain, weekday, dayTime / output: bikes)"
      ],
      "metadata": {
        "id": "pLDi_wcnVnwq"
      }
    },
    {
      "cell_type": "code",
      "source": [
        "X = df[['stationID','weatherId','feelsLike','rain','weekday','dayTime']].to_numpy()\n",
        "Y = df['bikes'].to_numpy()"
      ],
      "metadata": {
        "id": "6fUoxiYyUGb6"
      },
      "execution_count": 13,
      "outputs": []
    },
    {
      "cell_type": "markdown",
      "source": [
        "Creation of the model."
      ],
      "metadata": {
        "id": "EiVc7IJPGrti"
      }
    },
    {
      "cell_type": "code",
      "source": [
        "X_train, X_test, y_train, y_test = train_test_split(X, Y, test_size=0.2, random_state=0)\n",
        "\n",
        "sc = StandardScaler()\n",
        "X_train = sc.fit_transform(X_train)\n",
        "X_test = sc.transform(X_test)\n",
        "\n",
        "rf = RandomForestRegressor(random_state = 2)\n",
        "rf.fit(X_train, y_train)\n",
        "\n",
        "print(\"Accuracy: %f\\n\\nIMPORTANCES OF EACH FEATURES:\" % rf.score(X_test, y_test))\n",
        "for idx, x in enumerate(['stationID','weatherId','feelsLike','rain','weekday','dayTime']):\n",
        "    print(x, \" : \", rf.feature_importances_[idx])"
      ],
      "metadata": {
        "colab": {
          "base_uri": "https://localhost:8080/"
        },
        "id": "-DpVoEWJhTlI",
        "outputId": "d2cc5bad-f7ed-414b-8545-70bfffa5b351"
      },
      "execution_count": 16,
      "outputs": [
        {
          "output_type": "stream",
          "name": "stdout",
          "text": [
            "Accuracy: 0.774433\n",
            "\n",
            "IMPORTANCES OF EACH FEATURES:\n",
            "stationID  :  0.43098184260040284\n",
            "weatherId  :  0.05697185884498039\n",
            "feelsLike  :  0.19406424597229455\n",
            "rain  :  0.006843155202603615\n",
            "weekday  :  0.13786509561645785\n",
            "dayTime  :  0.1732738017632608\n"
          ]
        }
      ]
    },
    {
      "cell_type": "markdown",
      "source": [
        "Graph showing the value of the predicted bikes compared to the desired values."
      ],
      "metadata": {
        "id": "Gr-kd5LrGS29"
      }
    },
    {
      "cell_type": "code",
      "source": [
        "size = 150\n",
        "x = np.arange(size)\n",
        "  \n",
        "plt.plot(x, rf.predict(X_test)[0:size], label = \"Predicted\")\n",
        "plt.plot(x, y_test[0:size], label = \"Wanted\")\n",
        "plt.legend()\n",
        "plt.ylabel(\"Bikes\")\n",
        "plt.show()"
      ],
      "metadata": {
        "colab": {
          "base_uri": "https://localhost:8080/",
          "height": 265
        },
        "id": "0gUP7pvZA7xE",
        "outputId": "43460554-731a-4dcc-803e-92c23087f5a8"
      },
      "execution_count": 29,
      "outputs": [
        {
          "output_type": "display_data",
          "data": {
            "text/plain": [
              "<Figure size 432x288 with 1 Axes>"
            ],
            "image/png": "[encoded data removed]"
          },
          "metadata": {
            "needs_background": "light"
          }
        }
      ]
    }
  ],
  "metadata": {
    "colab": {
      "collapsed_sections": [],
      "name": "VLille Forecasting.ipynb",
      "provenance": [],
      "authorship_tag": "ABX9TyNwc42gK9z0cXG4K6fS8caO",
      "include_colab_link": true
    },
    "kernelspec": {
      "display_name": "Python 3",
      "name": "python3"
    },
    "language_info": {
      "name": "python"
    }
  },
  "nbformat": 4,
  "nbformat_minor": 0
}